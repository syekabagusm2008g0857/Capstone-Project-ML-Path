{
  "nbformat": 4,
  "nbformat_minor": 0,
  "metadata": {
    "colab": {
      "name": "OptimizedPrice_new_exportJson_FIX.ipynb",
      "provenance": [],
      "collapsed_sections": [],
      "toc_visible": true
    },
    "kernelspec": {
      "name": "python3",
      "display_name": "Python 3"
    },
    "language_info": {
      "name": "python"
    }
  },
  "cells": [
    {
      "cell_type": "markdown",
      "source": [
        "#Get Data From Gdrive"
      ],
      "metadata": {
        "id": "U_tyidapmpBF"
      }
    },
    {
      "cell_type": "code",
      "source": [
        "from google.colab import drive\n",
        "drive.mount('/content/drive')"
      ],
      "metadata": {
        "colab": {
          "base_uri": "https://localhost:8080/"
        },
        "id": "743m5tiVB3M-",
        "outputId": "bc39fe83-56ad-44af-f876-08b1ed1f0f95"
      },
      "execution_count": null,
      "outputs": [
        {
          "output_type": "stream",
          "name": "stdout",
          "text": [
            "Mounted at /content/drive\n"
          ]
        }
      ]
    },
    {
      "cell_type": "code",
      "source": [
        "cd /content/drive/MyDrive/Colab Notebooks/PriceOptim/PriceOptimExport"
      ],
      "metadata": {
        "colab": {
          "base_uri": "https://localhost:8080/"
        },
        "id": "EXvLVWtzCNz3",
        "outputId": "1e098160-12cc-4be0-f0d1-a0a65a2c3f29"
      },
      "execution_count": 40,
      "outputs": [
        {
          "output_type": "stream",
          "name": "stdout",
          "text": [
            "/content/drive/MyDrive/Colab Notebooks/PriceOptim/PriceOptimExport\n"
          ]
        }
      ]
    },
    {
      "cell_type": "code",
      "source": [
        "ls"
      ],
      "metadata": {
        "colab": {
          "base_uri": "https://localhost:8080/"
        },
        "id": "bLcH8J3AGI2u",
        "outputId": "b8ace446-abac-4eca-f6f9-1b357f63a712"
      },
      "execution_count": 41,
      "outputs": [
        {
          "output_type": "stream",
          "name": "stdout",
          "text": [
            " \u001b[0m\u001b[01;34mHasil\u001b[0m/                                    OptimizedPrice_new_exportJson.ipynb\n",
            "\u001b[01;34m'hasil fix'\u001b[0m/                               UK_SalesTransaction_cleaned.csv\n",
            " OptimizedPrice_new_exportJson_FIX.ipynb\n"
          ]
        }
      ]
    },
    {
      "cell_type": "code",
      "execution_count": 42,
      "metadata": {
        "id": "rGUPs6pQzjKe"
      },
      "outputs": [],
      "source": [
        "import numpy as np\n",
        "from pandas import DataFrame\n",
        "import matplotlib.pyplot as plt\n",
        "import seaborn as sns\n",
        "from statsmodels.formula.api import ols\n",
        "%matplotlib inline\n",
        "import pandas as pd\n",
        "# url='https://drive.google.com/file/d/1f8_vU8h1NsCiroU1ZcRt119L2WEEcw6V/view?usp=sharing'\n",
        "# url='https://drive.google.com/uc?id=' + url.split('/')[-2]\n",
        "# url = 'UK_SalesTransaction_v.4a.csv'\n",
        "# data = pd.read_csv(url)\n",
        "# print(data.shape)"
      ]
    },
    {
      "cell_type": "code",
      "source": [
        "# Data Cleaning\n",
        "def data_cleaning(): \n",
        "\n",
        "    # Read the data\n",
        "    data = pd.read_csv(url)\n",
        "    \n",
        "    # 1-Dealing with price data: Membulatkan (round) harga \n",
        "    data.Price = round(data.Price, 2)\n",
        "    \n",
        "    # 2-Dealing with CustomerNo data: Find CustomerNo data with missing value\n",
        "    zero_customer_no = data.where(data.CustomerNo == 0.0).dropna(axis=0)\n",
        "    # Remove the zero CustomerNo data\n",
        "    data.drop(zero_customer_no.index, axis=0, inplace=True)\n",
        "    data.index = range(len(data))\n",
        "    with pd.option_context('mode.use_inf_as_na', True):\n",
        "        data = data.dropna(axis=0)\n",
        "    data.index = range(len(data))\n",
        "    \n",
        "    # 3-Dealing with data in Quantity with Negative values related to cancelled transactions.\n",
        "    negative_quantity = data.where(data.Quantity <= 0.0).dropna(axis=0)\n",
        "    # Remove the negative quantity data\n",
        "    data.drop(negative_quantity.index, axis=0, inplace=True)\n",
        "    data.index = range(len(data))\n",
        "    with pd.option_context('mode.use_inf_as_na', True):\n",
        "        data = data.dropna(axis=0)\n",
        "    data.index = range(len(data))\n",
        "    \n",
        "    #4-Dealing with ProductNo datatypes\n",
        "    into_string_ProductNo=data[\"ProductNo\"].astype(str)\n",
        "    data.index = range(len(data))\n",
        "    with pd.option_context('mode.use_inf_as_na', True):\n",
        "        data = data.dropna(axis=0)\n",
        "    data.index = range(len(data))\n",
        "    \n",
        "    # Write the processed data\n",
        "    data.to_csv('UK_SalesTransaction_cleaned.csv', index=False, chunksize=1000)\n",
        "\n",
        "data_cleaning()"
      ],
      "metadata": {
        "id": "JNjE8whlzoMI"
      },
      "execution_count": null,
      "outputs": []
    },
    {
      "cell_type": "markdown",
      "source": [
        "#Get Data From Dataset"
      ],
      "metadata": {
        "id": "qgEBq_knmz9B"
      }
    },
    {
      "cell_type": "code",
      "source": [
        "data = pd.read_csv(\"UK_SalesTransaction_cleaned.csv\")\n",
        "data.shape\n",
        "data.head()"
      ],
      "metadata": {
        "colab": {
          "base_uri": "https://localhost:8080/",
          "height": 206
        },
        "id": "CuXMfTWkzvCH",
        "outputId": "810d67a3-38d8-447f-8548-cfc00c3a7389"
      },
      "execution_count": 104,
      "outputs": [
        {
          "output_type": "execute_result",
          "data": {
            "text/plain": [
              "   TransactionNo       Date ProductNo                          ProductName  \\\n",
              "0         581482  12/9/2019     22485        Set Of 2 Wooden Market Crates   \n",
              "1         581475  12/9/2019     22596  Christmas Star Wish List Chalkboard   \n",
              "2         581475  12/9/2019     23235             Storage Tin Vintage Leaf   \n",
              "3         581475  12/9/2019     23272    Tree T-Light Holder Willie Winkie   \n",
              "4         581475  12/9/2019     23239    Set Of 4 Knick Knack Tins Poppies   \n",
              "\n",
              "   Price  Quantity  CustomerNo         Country  \n",
              "0  21.47        12     17490.0  United Kingdom  \n",
              "1  10.65        36     13069.0  United Kingdom  \n",
              "2  11.53        12     13069.0  United Kingdom  \n",
              "3  10.65        12     13069.0  United Kingdom  \n",
              "4  11.94         6     13069.0  United Kingdom  "
            ],
            "text/html": [
              "\n",
              "  <div id=\"df-5f41bb8b-a5dc-4820-9b82-202ec82ec010\">\n",
              "    <div class=\"colab-df-container\">\n",
              "      <div>\n",
              "<style scoped>\n",
              "    .dataframe tbody tr th:only-of-type {\n",
              "        vertical-align: middle;\n",
              "    }\n",
              "\n",
              "    .dataframe tbody tr th {\n",
              "        vertical-align: top;\n",
              "    }\n",
              "\n",
              "    .dataframe thead th {\n",
              "        text-align: right;\n",
              "    }\n",
              "</style>\n",
              "<table border=\"1\" class=\"dataframe\">\n",
              "  <thead>\n",
              "    <tr style=\"text-align: right;\">\n",
              "      <th></th>\n",
              "      <th>TransactionNo</th>\n",
              "      <th>Date</th>\n",
              "      <th>ProductNo</th>\n",
              "      <th>ProductName</th>\n",
              "      <th>Price</th>\n",
              "      <th>Quantity</th>\n",
              "      <th>CustomerNo</th>\n",
              "      <th>Country</th>\n",
              "    </tr>\n",
              "  </thead>\n",
              "  <tbody>\n",
              "    <tr>\n",
              "      <th>0</th>\n",
              "      <td>581482</td>\n",
              "      <td>12/9/2019</td>\n",
              "      <td>22485</td>\n",
              "      <td>Set Of 2 Wooden Market Crates</td>\n",
              "      <td>21.47</td>\n",
              "      <td>12</td>\n",
              "      <td>17490.0</td>\n",
              "      <td>United Kingdom</td>\n",
              "    </tr>\n",
              "    <tr>\n",
              "      <th>1</th>\n",
              "      <td>581475</td>\n",
              "      <td>12/9/2019</td>\n",
              "      <td>22596</td>\n",
              "      <td>Christmas Star Wish List Chalkboard</td>\n",
              "      <td>10.65</td>\n",
              "      <td>36</td>\n",
              "      <td>13069.0</td>\n",
              "      <td>United Kingdom</td>\n",
              "    </tr>\n",
              "    <tr>\n",
              "      <th>2</th>\n",
              "      <td>581475</td>\n",
              "      <td>12/9/2019</td>\n",
              "      <td>23235</td>\n",
              "      <td>Storage Tin Vintage Leaf</td>\n",
              "      <td>11.53</td>\n",
              "      <td>12</td>\n",
              "      <td>13069.0</td>\n",
              "      <td>United Kingdom</td>\n",
              "    </tr>\n",
              "    <tr>\n",
              "      <th>3</th>\n",
              "      <td>581475</td>\n",
              "      <td>12/9/2019</td>\n",
              "      <td>23272</td>\n",
              "      <td>Tree T-Light Holder Willie Winkie</td>\n",
              "      <td>10.65</td>\n",
              "      <td>12</td>\n",
              "      <td>13069.0</td>\n",
              "      <td>United Kingdom</td>\n",
              "    </tr>\n",
              "    <tr>\n",
              "      <th>4</th>\n",
              "      <td>581475</td>\n",
              "      <td>12/9/2019</td>\n",
              "      <td>23239</td>\n",
              "      <td>Set Of 4 Knick Knack Tins Poppies</td>\n",
              "      <td>11.94</td>\n",
              "      <td>6</td>\n",
              "      <td>13069.0</td>\n",
              "      <td>United Kingdom</td>\n",
              "    </tr>\n",
              "  </tbody>\n",
              "</table>\n",
              "</div>\n",
              "      <button class=\"colab-df-convert\" onclick=\"convertToInteractive('df-5f41bb8b-a5dc-4820-9b82-202ec82ec010')\"\n",
              "              title=\"Convert this dataframe to an interactive table.\"\n",
              "              style=\"display:none;\">\n",
              "        \n",
              "  <svg xmlns=\"http://www.w3.org/2000/svg\" height=\"24px\"viewBox=\"0 0 24 24\"\n",
              "       width=\"24px\">\n",
              "    <path d=\"M0 0h24v24H0V0z\" fill=\"none\"/>\n",
              "    <path d=\"M18.56 5.44l.94 2.06.94-2.06 2.06-.94-2.06-.94-.94-2.06-.94 2.06-2.06.94zm-11 1L8.5 8.5l.94-2.06 2.06-.94-2.06-.94L8.5 2.5l-.94 2.06-2.06.94zm10 10l.94 2.06.94-2.06 2.06-.94-2.06-.94-.94-2.06-.94 2.06-2.06.94z\"/><path d=\"M17.41 7.96l-1.37-1.37c-.4-.4-.92-.59-1.43-.59-.52 0-1.04.2-1.43.59L10.3 9.45l-7.72 7.72c-.78.78-.78 2.05 0 2.83L4 21.41c.39.39.9.59 1.41.59.51 0 1.02-.2 1.41-.59l7.78-7.78 2.81-2.81c.8-.78.8-2.07 0-2.86zM5.41 20L4 18.59l7.72-7.72 1.47 1.35L5.41 20z\"/>\n",
              "  </svg>\n",
              "      </button>\n",
              "      \n",
              "  <style>\n",
              "    .colab-df-container {\n",
              "      display:flex;\n",
              "      flex-wrap:wrap;\n",
              "      gap: 12px;\n",
              "    }\n",
              "\n",
              "    .colab-df-convert {\n",
              "      background-color: #E8F0FE;\n",
              "      border: none;\n",
              "      border-radius: 50%;\n",
              "      cursor: pointer;\n",
              "      display: none;\n",
              "      fill: #1967D2;\n",
              "      height: 32px;\n",
              "      padding: 0 0 0 0;\n",
              "      width: 32px;\n",
              "    }\n",
              "\n",
              "    .colab-df-convert:hover {\n",
              "      background-color: #E2EBFA;\n",
              "      box-shadow: 0px 1px 2px rgba(60, 64, 67, 0.3), 0px 1px 3px 1px rgba(60, 64, 67, 0.15);\n",
              "      fill: #174EA6;\n",
              "    }\n",
              "\n",
              "    [theme=dark] .colab-df-convert {\n",
              "      background-color: #3B4455;\n",
              "      fill: #D2E3FC;\n",
              "    }\n",
              "\n",
              "    [theme=dark] .colab-df-convert:hover {\n",
              "      background-color: #434B5C;\n",
              "      box-shadow: 0px 1px 3px 1px rgba(0, 0, 0, 0.15);\n",
              "      filter: drop-shadow(0px 1px 2px rgba(0, 0, 0, 0.3));\n",
              "      fill: #FFFFFF;\n",
              "    }\n",
              "  </style>\n",
              "\n",
              "      <script>\n",
              "        const buttonEl =\n",
              "          document.querySelector('#df-5f41bb8b-a5dc-4820-9b82-202ec82ec010 button.colab-df-convert');\n",
              "        buttonEl.style.display =\n",
              "          google.colab.kernel.accessAllowed ? 'block' : 'none';\n",
              "\n",
              "        async function convertToInteractive(key) {\n",
              "          const element = document.querySelector('#df-5f41bb8b-a5dc-4820-9b82-202ec82ec010');\n",
              "          const dataTable =\n",
              "            await google.colab.kernel.invokeFunction('convertToInteractive',\n",
              "                                                     [key], {});\n",
              "          if (!dataTable) return;\n",
              "\n",
              "          const docLinkHtml = 'Like what you see? Visit the ' +\n",
              "            '<a target=\"_blank\" href=https://colab.research.google.com/notebooks/data_table.ipynb>data table notebook</a>'\n",
              "            + ' to learn more about interactive tables.';\n",
              "          element.innerHTML = '';\n",
              "          dataTable['output_type'] = 'display_data';\n",
              "          await google.colab.output.renderOutput(dataTable, element);\n",
              "          const docLink = document.createElement('div');\n",
              "          docLink.innerHTML = docLinkHtml;\n",
              "          element.appendChild(docLink);\n",
              "        }\n",
              "      </script>\n",
              "    </div>\n",
              "  </div>\n",
              "  "
            ]
          },
          "metadata": {},
          "execution_count": 104
        }
      ]
    },
    {
      "cell_type": "code",
      "source": [
        "## dapatin nilai semua no. produk\n",
        "product = data[\"ProductNo\"].unique()\n",
        "\n",
        "product_no = product[:10] # ngambil 10 no.product\n",
        "# product_no = product # ngambil semua no.product\n",
        "print(product_no)"
      ],
      "metadata": {
        "colab": {
          "base_uri": "https://localhost:8080/"
        },
        "id": "v8B4_wbCz0NA",
        "outputId": "e505c60f-839a-47ab-9459-d0c1d2d8317e"
      },
      "execution_count": 105,
      "outputs": [
        {
          "output_type": "stream",
          "name": "stdout",
          "text": [
            "['22485' '22596' '23235' '23272' '23239' '21705' '22118' '22119' '22217'\n",
            " '22216']\n"
          ]
        }
      ]
    },
    {
      "cell_type": "code",
      "source": [
        "product_no.shape"
      ],
      "metadata": {
        "colab": {
          "base_uri": "https://localhost:8080/"
        },
        "id": "XZjSdgdP8MKg",
        "outputId": "490d3f62-d551-4f52-b331-19fcd0fa3206"
      },
      "execution_count": 160,
      "outputs": [
        {
          "output_type": "execute_result",
          "data": {
            "text/plain": [
              "(10,)"
            ]
          },
          "metadata": {},
          "execution_count": 160
        }
      ]
    },
    {
      "cell_type": "code",
      "source": [
        "data_product = {}\n",
        "def product():\n",
        "  a = \"data_\"\n",
        "  #Read the data\n",
        "  data = pd.read_csv(\"UK_SalesTransaction_cleaned.csv\")\n",
        "  # looping setiap no.produk\n",
        "  for i in product_no:\n",
        "    no_data = data[data[\"ProductNo\"].str.contains(str(i)) == True]\n",
        "    # nyimpan dataframe ke variable baru sesuai no.produknya\n",
        "    data_product.update({a+str(i):no_data})\n",
        "    # jadinya data data_22485, data_22596, dan sebagainya\n",
        "product()"
      ],
      "metadata": {
        "id": "h_NGMA5XwkgA"
      },
      "execution_count": 107,
      "outputs": []
    },
    {
      "cell_type": "code",
      "source": [
        "initial_price_dict = {}\n",
        "for item, data in data_product.items():\n",
        "  a = \"initial_price_\"\n",
        "  min_price = data.Price.min()\n",
        "  max_price = data.Price.max()\n",
        "  # cost = round(0.8 * min_price, 2) #diasumsikan cost didapat dari 80% dari harga jual terendah\n",
        "  initial_price = [min_price, max_price]\n",
        "  initial_price_dict.update({a+str(item):initial_price})\n",
        "  \n",
        "initial_price_dict"
      ],
      "metadata": {
        "id": "qtxazx-h3UNq",
        "colab": {
          "base_uri": "https://localhost:8080/"
        },
        "outputId": "19e506c0-9cf8-491f-b2fc-3977f56f840b"
      },
      "execution_count": 108,
      "outputs": [
        {
          "output_type": "execute_result",
          "data": {
            "text/plain": [
              "{'initial_price_data_21705': [5.97, 13.69],\n",
              " 'initial_price_data_22118': [6.04, 22.42],\n",
              " 'initial_price_data_22119': [6.04, 24.73],\n",
              " 'initial_price_data_22216': [6.13, 11.95],\n",
              " 'initial_price_data_22217': [5.97, 12.82],\n",
              " 'initial_price_data_22485': [6.04, 36.38],\n",
              " 'initial_price_data_22596': [5.97, 13.27],\n",
              " 'initial_price_data_23235': [6.04, 16.18],\n",
              " 'initial_price_data_23239': [5.97, 18.75],\n",
              " 'initial_price_data_23272': [5.97, 13.62]}"
            ]
          },
          "metadata": {},
          "execution_count": 108
        }
      ]
    },
    {
      "cell_type": "code",
      "source": [
        "data_coef"
      ],
      "metadata": {
        "id": "t5a5esoLMiM_"
      },
      "execution_count": null,
      "outputs": []
    },
    {
      "cell_type": "code",
      "source": [
        "print(simpan_nama_unik[0])\n",
        "simpan_nama_unik"
      ],
      "metadata": {
        "id": "iKfLgcBnN5_G"
      },
      "execution_count": null,
      "outputs": []
    },
    {
      "cell_type": "markdown",
      "source": [
        "#Train To Json"
      ],
      "metadata": {
        "id": "CK0z2-XUmb61"
      }
    },
    {
      "cell_type": "code",
      "source": [
        "# fit OLS model fix 1\n",
        "# data_all = {}\n",
        "data_coef = []\n",
        "simpan_nama_unik = []\n",
        "for item, data in data_product.items():\n",
        "  # data_product['data_22485'].take([0])\n",
        "  simpan_unik = data_product[item].Price.unique()\n",
        "  nama_unik = data_product[item].ProductName.unique()\n",
        "  model = ols(\"Quantity ~ Price\", data=data_product[item]).fit() \n",
        "  # print model summary\n",
        "  no = data_product[item]\n",
        "  simpan_nama_unik.append('Product')\n",
        "  data_coef.append([item.replace('data_', ''), nama_unik[0], model.params['Intercept'], model.params['Price'], no.Price.min(), no.Price.max()])\n",
        "  # for data in data_product[item]:\n",
        "data_coef = pd.DataFrame(data_coef, columns=[\"ProductNo\",\"ProductName\",\"Intercept_Coef\",\"Elasticity_Coef\",\"Min_Price\",\"Max_Price\"])\n",
        "# data_coef = data_coef.drop_duplicates(subset=[\"Price\"], keep=\"first\")\n",
        "# data_all.update({item:data_coef})\n",
        "# simpan = data_coef.to_json('export.json', orient='index')\n",
        "simpan = data_coef.to_json('export.json', orient='records')\n",
        "print(simpan)\n"
      ],
      "metadata": {
        "colab": {
          "base_uri": "https://localhost:8080/"
        },
        "id": "Geos7IXQ1dr9",
        "outputId": "eccdb93c-137e-460d-dadb-973db4e03db2"
      },
      "execution_count": 48,
      "outputs": [
        {
          "output_type": "stream",
          "name": "stdout",
          "text": [
            "None\n"
          ]
        }
      ]
    },
    {
      "cell_type": "code",
      "source": [
        "ls"
      ],
      "metadata": {
        "colab": {
          "base_uri": "https://localhost:8080/"
        },
        "id": "ZNCHXeNo2k22",
        "outputId": "f5fde4d9-d4eb-4cc6-8238-9d0325c1d1cb"
      },
      "execution_count": 49,
      "outputs": [
        {
          "output_type": "stream",
          "name": "stdout",
          "text": [
            " export.json   OptimizedPrice_new_exportJson_FIX.ipynb\n",
            " \u001b[0m\u001b[01;34mHasil\u001b[0m/        OptimizedPrice_new_exportJson.ipynb\n",
            "\u001b[01;34m'hasil fix'\u001b[0m/   UK_SalesTransaction_cleaned.csv\n"
          ]
        }
      ]
    },
    {
      "cell_type": "markdown",
      "source": [
        "#Price Optim"
      ],
      "metadata": {
        "id": "cve-Rlt9mhUE"
      }
    },
    {
      "cell_type": "code",
      "source": [
        "def number_range(start, end, intv):\n",
        "    diff = (end  - start ) / intv\n",
        "    for i in range(intv):\n",
        "      yield (round(start + diff * i,2))\n",
        "    yield end"
      ],
      "metadata": {
        "id": "tVMmZZG1TgK5"
      },
      "execution_count": 110,
      "outputs": []
    },
    {
      "cell_type": "code",
      "source": [
        "# for item, data in data_product['data_22485']:\n",
        "for item, data in data_product.items():\n",
        "  sns.lmplot(x = \"Price\", y = \"Quantity\", data = data_product[item], fit_reg = True, size = 4)"
      ],
      "metadata": {
        "id": "CgkjutwUmNun"
      },
      "execution_count": null,
      "outputs": []
    },
    {
      "cell_type": "code",
      "source": [
        "model.params['Intercept']"
      ],
      "metadata": {
        "colab": {
          "base_uri": "https://localhost:8080/"
        },
        "id": "qOWe_vG0crT3",
        "outputId": "583f6b61-4d37-4fe5-dc5c-94368264f3ca"
      },
      "execution_count": null,
      "outputs": [
        {
          "output_type": "execute_result",
          "data": {
            "text/plain": [
              "31.16451985868588"
            ]
          },
          "metadata": {},
          "execution_count": 19
        }
      ]
    },
    {
      "cell_type": "code",
      "source": [
        "# a range of diffferent prices to find the optimum one\n",
        "# hasil_profit = []\n",
        "# simpan_profit = []\n",
        "#initialize Dataframe\n",
        "simpan_profit = pd.DataFrame({\n",
        "    'max_profit':[],\n",
        "    'max_price_profit':[],\n",
        "})\n",
        "save_profit = []\n",
        "profit = pd.DataFrame({\"Price\": [], \"Revenue\": []})\n",
        "# for item, data in data_product.items():\n",
        "for item, data in data_product.items():\n",
        "  min_price = data.Price.min()\n",
        "  max_price = data.Price.max()\n",
        "  Price = []\n",
        "  Price = list(number_range(min_price, max_price, 10))\n",
        "  Revenue = []\n",
        "  # assuming a fixed cost\n",
        "  cost = 20/100*min_price\n",
        "  # model = ols(\"Quantity ~ Price\", data=data_product[item]).fit()\n",
        "  for i in Price:\n",
        "    # print(i)\n",
        "    quantity_demanded = model.params['Intercept'] - model.params['Price'] * i\n",
        "    Revenue.append((i-cost) * quantity_demanded)\n",
        "    # print(\"selesai\")   \n",
        "  # profit function\n",
        "  # create data frame of price and revenue\n",
        "  profit = pd.DataFrame({\"Price\": Price, \"Revenue\": Revenue})\n",
        "  #plot revenue against price\n",
        "  save_profit.append(profit)\n",
        "  print(round(profit.iloc[profit['Revenue'].idxmax()],2))\n",
        "d = 0\n",
        "# for data in save_profit.Revenue.items():\n",
        "#   # print(data[1])\n",
        "#   if(save_profit.Revenue.max() == data[1]):\n",
        "#    simpan_profit=simpan_profit.append({\n",
        "#     'max_profit':round(profit.Revenue.max(),2),    \n",
        "#     'max_price_profit':round(profit.Price[d],2),    \n",
        "#     }, ignore_index=True)\n",
        "#   # print(\"berhasil\")\n",
        "#   d=d+1\n"
      ],
      "metadata": {
        "colab": {
          "base_uri": "https://localhost:8080/"
        },
        "id": "RvDR8SS0Kb2E",
        "outputId": "445e282c-3203-411d-f5f4-1d2f9b2cfa5d"
      },
      "execution_count": 159,
      "outputs": [
        {
          "output_type": "stream",
          "name": "stdout",
          "text": [
            "Price        36.38\n",
            "Revenue    3797.14\n",
            "Name: 10, dtype: float64\n",
            "Price       13.27\n",
            "Revenue    714.61\n",
            "Name: 10, dtype: float64\n",
            "Price       16.18\n",
            "Revenue    977.96\n",
            "Name: 10, dtype: float64\n",
            "Price       13.62\n",
            "Revenue    744.50\n",
            "Name: 10, dtype: float64\n",
            "Price        18.75\n",
            "Revenue    1241.98\n",
            "Name: 10, dtype: float64\n",
            "Price       13.69\n",
            "Revenue    750.54\n",
            "Name: 10, dtype: float64\n",
            "Price        22.42\n",
            "Revenue    1664.95\n",
            "Name: 10, dtype: float64\n",
            "Price        24.73\n",
            "Revenue    1960.96\n",
            "Name: 10, dtype: float64\n",
            "Price       12.82\n",
            "Revenue    676.94\n",
            "Name: 10, dtype: float64\n",
            "Price       11.95\n",
            "Revenue    604.72\n",
            "Name: 10, dtype: float64\n"
          ]
        }
      ]
    },
    {
      "cell_type": "code",
      "source": [
        "profit.iloc[profit['Revenue'].idxmax()]"
      ],
      "metadata": {
        "colab": {
          "base_uri": "https://localhost:8080/"
        },
        "id": "q2kl6iTk7haC",
        "outputId": "168e7c94-20b6-4769-a3d0-7093784d5081"
      },
      "execution_count": 101,
      "outputs": [
        {
          "output_type": "execute_result",
          "data": {
            "text/plain": [
              "Price      70.000000\n",
              "Revenue    69.713171\n",
              "Name: 2, dtype: float64"
            ]
          },
          "metadata": {},
          "execution_count": 101
        }
      ]
    },
    {
      "cell_type": "code",
      "source": [
        "simpan_profit"
      ],
      "metadata": {
        "colab": {
          "base_uri": "https://localhost:8080/",
          "height": 81
        },
        "id": "vqGzBfzv1z46",
        "outputId": "40e5a09d-6049-4519-ba5b-ce13bf512f52"
      },
      "execution_count": 100,
      "outputs": [
        {
          "output_type": "execute_result",
          "data": {
            "text/plain": [
              "   max_profit  max_price_profit\n",
              "0       69.71              70.0"
            ],
            "text/html": [
              "\n",
              "  <div id=\"df-321a8b4a-0d69-43f3-a828-e96ab148a4d6\">\n",
              "    <div class=\"colab-df-container\">\n",
              "      <div>\n",
              "<style scoped>\n",
              "    .dataframe tbody tr th:only-of-type {\n",
              "        vertical-align: middle;\n",
              "    }\n",
              "\n",
              "    .dataframe tbody tr th {\n",
              "        vertical-align: top;\n",
              "    }\n",
              "\n",
              "    .dataframe thead th {\n",
              "        text-align: right;\n",
              "    }\n",
              "</style>\n",
              "<table border=\"1\" class=\"dataframe\">\n",
              "  <thead>\n",
              "    <tr style=\"text-align: right;\">\n",
              "      <th></th>\n",
              "      <th>max_profit</th>\n",
              "      <th>max_price_profit</th>\n",
              "    </tr>\n",
              "  </thead>\n",
              "  <tbody>\n",
              "    <tr>\n",
              "      <th>0</th>\n",
              "      <td>69.71</td>\n",
              "      <td>70.0</td>\n",
              "    </tr>\n",
              "  </tbody>\n",
              "</table>\n",
              "</div>\n",
              "      <button class=\"colab-df-convert\" onclick=\"convertToInteractive('df-321a8b4a-0d69-43f3-a828-e96ab148a4d6')\"\n",
              "              title=\"Convert this dataframe to an interactive table.\"\n",
              "              style=\"display:none;\">\n",
              "        \n",
              "  <svg xmlns=\"http://www.w3.org/2000/svg\" height=\"24px\"viewBox=\"0 0 24 24\"\n",
              "       width=\"24px\">\n",
              "    <path d=\"M0 0h24v24H0V0z\" fill=\"none\"/>\n",
              "    <path d=\"M18.56 5.44l.94 2.06.94-2.06 2.06-.94-2.06-.94-.94-2.06-.94 2.06-2.06.94zm-11 1L8.5 8.5l.94-2.06 2.06-.94-2.06-.94L8.5 2.5l-.94 2.06-2.06.94zm10 10l.94 2.06.94-2.06 2.06-.94-2.06-.94-.94-2.06-.94 2.06-2.06.94z\"/><path d=\"M17.41 7.96l-1.37-1.37c-.4-.4-.92-.59-1.43-.59-.52 0-1.04.2-1.43.59L10.3 9.45l-7.72 7.72c-.78.78-.78 2.05 0 2.83L4 21.41c.39.39.9.59 1.41.59.51 0 1.02-.2 1.41-.59l7.78-7.78 2.81-2.81c.8-.78.8-2.07 0-2.86zM5.41 20L4 18.59l7.72-7.72 1.47 1.35L5.41 20z\"/>\n",
              "  </svg>\n",
              "      </button>\n",
              "      \n",
              "  <style>\n",
              "    .colab-df-container {\n",
              "      display:flex;\n",
              "      flex-wrap:wrap;\n",
              "      gap: 12px;\n",
              "    }\n",
              "\n",
              "    .colab-df-convert {\n",
              "      background-color: #E8F0FE;\n",
              "      border: none;\n",
              "      border-radius: 50%;\n",
              "      cursor: pointer;\n",
              "      display: none;\n",
              "      fill: #1967D2;\n",
              "      height: 32px;\n",
              "      padding: 0 0 0 0;\n",
              "      width: 32px;\n",
              "    }\n",
              "\n",
              "    .colab-df-convert:hover {\n",
              "      background-color: #E2EBFA;\n",
              "      box-shadow: 0px 1px 2px rgba(60, 64, 67, 0.3), 0px 1px 3px 1px rgba(60, 64, 67, 0.15);\n",
              "      fill: #174EA6;\n",
              "    }\n",
              "\n",
              "    [theme=dark] .colab-df-convert {\n",
              "      background-color: #3B4455;\n",
              "      fill: #D2E3FC;\n",
              "    }\n",
              "\n",
              "    [theme=dark] .colab-df-convert:hover {\n",
              "      background-color: #434B5C;\n",
              "      box-shadow: 0px 1px 3px 1px rgba(0, 0, 0, 0.15);\n",
              "      filter: drop-shadow(0px 1px 2px rgba(0, 0, 0, 0.3));\n",
              "      fill: #FFFFFF;\n",
              "    }\n",
              "  </style>\n",
              "\n",
              "      <script>\n",
              "        const buttonEl =\n",
              "          document.querySelector('#df-321a8b4a-0d69-43f3-a828-e96ab148a4d6 button.colab-df-convert');\n",
              "        buttonEl.style.display =\n",
              "          google.colab.kernel.accessAllowed ? 'block' : 'none';\n",
              "\n",
              "        async function convertToInteractive(key) {\n",
              "          const element = document.querySelector('#df-321a8b4a-0d69-43f3-a828-e96ab148a4d6');\n",
              "          const dataTable =\n",
              "            await google.colab.kernel.invokeFunction('convertToInteractive',\n",
              "                                                     [key], {});\n",
              "          if (!dataTable) return;\n",
              "\n",
              "          const docLinkHtml = 'Like what you see? Visit the ' +\n",
              "            '<a target=\"_blank\" href=https://colab.research.google.com/notebooks/data_table.ipynb>data table notebook</a>'\n",
              "            + ' to learn more about interactive tables.';\n",
              "          element.innerHTML = '';\n",
              "          dataTable['output_type'] = 'display_data';\n",
              "          await google.colab.output.renderOutput(dataTable, element);\n",
              "          const docLink = document.createElement('div');\n",
              "          docLink.innerHTML = docLinkHtml;\n",
              "          element.appendChild(docLink);\n",
              "        }\n",
              "      </script>\n",
              "    </div>\n",
              "  </div>\n",
              "  "
            ]
          },
          "metadata": {},
          "execution_count": 100
        }
      ]
    },
    {
      "cell_type": "code",
      "source": [
        "profit"
      ],
      "metadata": {
        "colab": {
          "base_uri": "https://localhost:8080/",
          "height": 206
        },
        "id": "nKOPp-BC3fFk",
        "outputId": "f79cf490-97a7-4809-fd13-029f14986c0d"
      },
      "execution_count": 91,
      "outputs": [
        {
          "output_type": "execute_result",
          "data": {
            "text/plain": [
              "   Price     Revenue\n",
              "0     50  172.450942\n",
              "1     60  164.686921\n",
              "2     70  134.778798\n",
              "3     80   82.726572\n",
              "4     90    8.530243"
            ],
            "text/html": [
              "\n",
              "  <div id=\"df-0a664107-8951-4118-b503-80cf23d51468\">\n",
              "    <div class=\"colab-df-container\">\n",
              "      <div>\n",
              "<style scoped>\n",
              "    .dataframe tbody tr th:only-of-type {\n",
              "        vertical-align: middle;\n",
              "    }\n",
              "\n",
              "    .dataframe tbody tr th {\n",
              "        vertical-align: top;\n",
              "    }\n",
              "\n",
              "    .dataframe thead th {\n",
              "        text-align: right;\n",
              "    }\n",
              "</style>\n",
              "<table border=\"1\" class=\"dataframe\">\n",
              "  <thead>\n",
              "    <tr style=\"text-align: right;\">\n",
              "      <th></th>\n",
              "      <th>Price</th>\n",
              "      <th>Revenue</th>\n",
              "    </tr>\n",
              "  </thead>\n",
              "  <tbody>\n",
              "    <tr>\n",
              "      <th>0</th>\n",
              "      <td>50</td>\n",
              "      <td>172.450942</td>\n",
              "    </tr>\n",
              "    <tr>\n",
              "      <th>1</th>\n",
              "      <td>60</td>\n",
              "      <td>164.686921</td>\n",
              "    </tr>\n",
              "    <tr>\n",
              "      <th>2</th>\n",
              "      <td>70</td>\n",
              "      <td>134.778798</td>\n",
              "    </tr>\n",
              "    <tr>\n",
              "      <th>3</th>\n",
              "      <td>80</td>\n",
              "      <td>82.726572</td>\n",
              "    </tr>\n",
              "    <tr>\n",
              "      <th>4</th>\n",
              "      <td>90</td>\n",
              "      <td>8.530243</td>\n",
              "    </tr>\n",
              "  </tbody>\n",
              "</table>\n",
              "</div>\n",
              "      <button class=\"colab-df-convert\" onclick=\"convertToInteractive('df-0a664107-8951-4118-b503-80cf23d51468')\"\n",
              "              title=\"Convert this dataframe to an interactive table.\"\n",
              "              style=\"display:none;\">\n",
              "        \n",
              "  <svg xmlns=\"http://www.w3.org/2000/svg\" height=\"24px\"viewBox=\"0 0 24 24\"\n",
              "       width=\"24px\">\n",
              "    <path d=\"M0 0h24v24H0V0z\" fill=\"none\"/>\n",
              "    <path d=\"M18.56 5.44l.94 2.06.94-2.06 2.06-.94-2.06-.94-.94-2.06-.94 2.06-2.06.94zm-11 1L8.5 8.5l.94-2.06 2.06-.94-2.06-.94L8.5 2.5l-.94 2.06-2.06.94zm10 10l.94 2.06.94-2.06 2.06-.94-2.06-.94-.94-2.06-.94 2.06-2.06.94z\"/><path d=\"M17.41 7.96l-1.37-1.37c-.4-.4-.92-.59-1.43-.59-.52 0-1.04.2-1.43.59L10.3 9.45l-7.72 7.72c-.78.78-.78 2.05 0 2.83L4 21.41c.39.39.9.59 1.41.59.51 0 1.02-.2 1.41-.59l7.78-7.78 2.81-2.81c.8-.78.8-2.07 0-2.86zM5.41 20L4 18.59l7.72-7.72 1.47 1.35L5.41 20z\"/>\n",
              "  </svg>\n",
              "      </button>\n",
              "      \n",
              "  <style>\n",
              "    .colab-df-container {\n",
              "      display:flex;\n",
              "      flex-wrap:wrap;\n",
              "      gap: 12px;\n",
              "    }\n",
              "\n",
              "    .colab-df-convert {\n",
              "      background-color: #E8F0FE;\n",
              "      border: none;\n",
              "      border-radius: 50%;\n",
              "      cursor: pointer;\n",
              "      display: none;\n",
              "      fill: #1967D2;\n",
              "      height: 32px;\n",
              "      padding: 0 0 0 0;\n",
              "      width: 32px;\n",
              "    }\n",
              "\n",
              "    .colab-df-convert:hover {\n",
              "      background-color: #E2EBFA;\n",
              "      box-shadow: 0px 1px 2px rgba(60, 64, 67, 0.3), 0px 1px 3px 1px rgba(60, 64, 67, 0.15);\n",
              "      fill: #174EA6;\n",
              "    }\n",
              "\n",
              "    [theme=dark] .colab-df-convert {\n",
              "      background-color: #3B4455;\n",
              "      fill: #D2E3FC;\n",
              "    }\n",
              "\n",
              "    [theme=dark] .colab-df-convert:hover {\n",
              "      background-color: #434B5C;\n",
              "      box-shadow: 0px 1px 3px 1px rgba(0, 0, 0, 0.15);\n",
              "      filter: drop-shadow(0px 1px 2px rgba(0, 0, 0, 0.3));\n",
              "      fill: #FFFFFF;\n",
              "    }\n",
              "  </style>\n",
              "\n",
              "      <script>\n",
              "        const buttonEl =\n",
              "          document.querySelector('#df-0a664107-8951-4118-b503-80cf23d51468 button.colab-df-convert');\n",
              "        buttonEl.style.display =\n",
              "          google.colab.kernel.accessAllowed ? 'block' : 'none';\n",
              "\n",
              "        async function convertToInteractive(key) {\n",
              "          const element = document.querySelector('#df-0a664107-8951-4118-b503-80cf23d51468');\n",
              "          const dataTable =\n",
              "            await google.colab.kernel.invokeFunction('convertToInteractive',\n",
              "                                                     [key], {});\n",
              "          if (!dataTable) return;\n",
              "\n",
              "          const docLinkHtml = 'Like what you see? Visit the ' +\n",
              "            '<a target=\"_blank\" href=https://colab.research.google.com/notebooks/data_table.ipynb>data table notebook</a>'\n",
              "            + ' to learn more about interactive tables.';\n",
              "          element.innerHTML = '';\n",
              "          dataTable['output_type'] = 'display_data';\n",
              "          await google.colab.output.renderOutput(dataTable, element);\n",
              "          const docLink = document.createElement('div');\n",
              "          docLink.innerHTML = docLinkHtml;\n",
              "          element.appendChild(docLink);\n",
              "        }\n",
              "      </script>\n",
              "    </div>\n",
              "  </div>\n",
              "  "
            ]
          },
          "metadata": {},
          "execution_count": 91
        }
      ]
    },
    {
      "cell_type": "code",
      "source": [
        "# a range of diffferent prices to find the optimum one\n",
        "Price = [50, 60, 70, 80,90]\n",
        "# assuming a fixed cost\n",
        "cost = 12\n",
        "Revenue = []\n",
        "for i in Price:\n",
        "  quantity_demanded = model.params['Intercept'] - model.params['Price'] * i \n",
        "  # profit function\n",
        "  Revenue.append((i-cost) * quantity_demanded)\n",
        "# create data frame of price and revenue\n",
        "profit = pd.DataFrame({\"Price\": Price, \"Revenue\": Revenue})\n",
        "#plot revenue against price\n",
        "plt.plot(profit[\"Price\"], profit[\"Revenue\"])"
      ],
      "metadata": {
        "id": "0MEjkn11Tt0J",
        "colab": {
          "base_uri": "https://localhost:8080/",
          "height": 283
        },
        "outputId": "ecf7ca85-71e9-4a01-cc8b-284a59325fe7"
      },
      "execution_count": 147,
      "outputs": [
        {
          "output_type": "execute_result",
          "data": {
            "text/plain": [
              "[<matplotlib.lines.Line2D at 0x7fd461901150>]"
            ]
          },
          "metadata": {},
          "execution_count": 147
        },
        {
          "output_type": "display_data",
          "data": {
            "text/plain": [
              "<Figure size 432x288 with 1 Axes>"
            ],
            "image/png": "[encoded data removed]"
          },
          "metadata": {
            "needs_background": "light"
          }
        }
      ]
    },
    {
      "cell_type": "code",
      "source": [
        "profit.iloc[profit['Revenue'].idxmax()]"
      ],
      "metadata": {
        "colab": {
          "base_uri": "https://localhost:8080/"
        },
        "id": "5EXmLNcddaG2",
        "outputId": "96410c78-97f2-4b90-aa99-bc01fb257230"
      },
      "execution_count": 148,
      "outputs": [
        {
          "output_type": "execute_result",
          "data": {
            "text/plain": [
              "Price         90.000000\n",
              "Revenue    17249.387493\n",
              "Name: 4, dtype: float64"
            ]
          },
          "metadata": {},
          "execution_count": 148
        }
      ]
    },
    {
      "cell_type": "code",
      "source": [
        "model.params['Price']"
      ],
      "metadata": {
        "id": "irt_6zCrKr7Q",
        "colab": {
          "base_uri": "https://localhost:8080/"
        },
        "outputId": "31f8114d-b9d2-4cd8-d7ef-f83a1ceb76d9"
      },
      "execution_count": 149,
      "outputs": [
        {
          "output_type": "execute_result",
          "data": {
            "text/plain": [
              "-2.1109052626806184"
            ]
          },
          "metadata": {},
          "execution_count": 149
        }
      ]
    },
    {
      "cell_type": "code",
      "source": [
        "data.Price[0]"
      ],
      "metadata": {
        "id": "dQq6R6-R40JV"
      },
      "execution_count": null,
      "outputs": []
    },
    {
      "cell_type": "markdown",
      "source": [
        "#oprek"
      ],
      "metadata": {
        "id": "eBhq9F1jlCFv"
      }
    },
    {
      "cell_type": "code",
      "source": [
        "for data in data_product['data_22485']:\n",
        "  # fit OLS model\n",
        "  model = ols(\"Quantity ~ Price\", data).fit()\n",
        "  # asal.append([item.replace('data_', ''), model.params['Intercept'], model.params['Price'], data.Price.min(), data.Price.max()])\n",
        "# print model summary\n",
        "  print(item.replace('data_', ''), model.params['Intercept'], model.params['Price'], data.Price.min(), data.Price.max())"
      ],
      "metadata": {
        "id": "EIwdQt4OjMAm"
      },
      "execution_count": null,
      "outputs": []
    },
    {
      "cell_type": "code",
      "source": [
        "# fit OLS model fix 1 cobain\n",
        "# data_all = {}\n",
        "data_coef = []\n",
        "for item, data in data_product.items():\n",
        "  # data_product['data_22485'].take([0])\n",
        "  simpan_unik = data_product[item].Price.unique()\n",
        "  model = ols(\"Quantity ~ Price\", data=data_product[item]).fit() \n",
        "  # print model summary\n",
        "  no = data_product[item]\n",
        "  data_coef.append([item.replace('data_', ''), model.params['Intercept'], model.params['Price'], no.Price.min(), no.Price.max()])\n",
        "  # for data in data_product[item]:\n",
        "data_coef = pd.DataFrame(data_coef, columns=[\"ProductNo\",\"Intercept_Coef\",\"Elasticity_Coef\",\"Min_Price\",\"Max_Price\"])\n",
        "# data_coef = data_coef.drop_duplicates(subset=[\"Price\"], keep=\"first\")\n",
        "# data_all.update({item:data_coef})\n",
        "simpan = data_coef.to_json('export.json', orient='index')\n",
        "print(simpan)\n"
      ],
      "metadata": {
        "colab": {
          "base_uri": "https://localhost:8080/"
        },
        "id": "rLiQkRSyjsyb",
        "outputId": "320fa35b-8155-47a1-ab49-872d0cd2cc38"
      },
      "execution_count": null,
      "outputs": [
        {
          "output_type": "stream",
          "name": "stdout",
          "text": [
            "None\n"
          ]
        }
      ]
    },
    {
      "cell_type": "code",
      "source": [
        "# fit OLS model fix 1\n",
        "# data_all = {}\n",
        "data_coef = []\n",
        "for item, data in data_product.items():\n",
        "  # data_product['data_22485'].take([0])\n",
        "  simpan_unik = data_product[item].Price.unique()\n",
        "  model = ols(\"Quantity ~ Price\", data=data_product[item]).fit()\n",
        "  for i in range (len(data_product[item])):\n",
        "    \n",
        "  # print model summary\n",
        "    no = data_product[item]\n",
        "    harga = data_product[item]['Price'].iat[i]\n",
        "  \n",
        "  data_coef.append([item.replace('data_', ''), model.params['Intercept'], model.params['Price'], no.Price.min(), no.Price.max()])\n",
        "  # for data in data_product[item]:\n",
        "data_coef = pd.DataFrame(data_coef, columns=[\"ProductNo\",\"Intercept_Coef\",\"Elasticity_Coef\",\"Min_Price\",\"Max_Price\"])\n",
        "# data_coef = data_coef.drop_duplicates(subset=[\"Price\"], keep=\"first\")\n",
        "# data_all.update({item:data_coef})\n",
        "simpan = data_coef.to_json('export.json', orient='index')\n",
        "print(simpan)\n"
      ],
      "metadata": {
        "id": "UzI6vl8GlBJI"
      },
      "execution_count": null,
      "outputs": []
    },
    {
      "cell_type": "code",
      "source": [
        "#initialize Dataframe\n",
        "df_output = pd.DataFrame({\n",
        "    'ProductNo':[pd.DataFrame({\n",
        "                 'Intercept_Coef':[],\n",
        "                 'Elasticity_Coef':[],\n",
        "                 'Initial_MinPrice':[],\n",
        "                 'Initial_MaxPrice':[]\n",
        "    })],\n",
        "})"
      ],
      "metadata": {
        "id": "mntivsCwKZYF"
      },
      "execution_count": null,
      "outputs": []
    },
    {
      "cell_type": "code",
      "source": [
        "# fit OLS model\n",
        "i=0\n",
        "for item, data in data_product.items():\n",
        "  # fit OLS model\n",
        "  model = ols(\"Quantity ~ Price\", data.take([i])).fit()\n",
        "# print model summary\n",
        "  print(data.ProductNo[i], model.params['Intercept'], model.params['Price'])\n",
        "  i=i+1"
      ],
      "metadata": {
        "id": "YtAXqxkCwptD"
      },
      "execution_count": null,
      "outputs": []
    },
    {
      "cell_type": "code",
      "source": [
        "model = ols(\"Quantity ~ Price\", data=data_product['data_22485']).fit()\n",
        "# print model summary\n",
        "print(model.summary())"
      ],
      "metadata": {
        "colab": {
          "base_uri": "https://localhost:8080/"
        },
        "id": "7-tl8U1-eFQ9",
        "outputId": "d49f844c-8578-4aed-c3e3-6ade5ac2fa26"
      },
      "execution_count": null,
      "outputs": [
        {
          "output_type": "stream",
          "name": "stdout",
          "text": [
            "                            OLS Regression Results                            \n",
            "==============================================================================\n",
            "Dep. Variable:               Quantity   R-squared:                       0.038\n",
            "Model:                            OLS   Adj. R-squared:                  0.033\n",
            "Method:                 Least Squares   F-statistic:                     8.039\n",
            "Date:                Wed, 15 Jun 2022   Prob (F-statistic):            0.00503\n",
            "Time:                        17:45:41   Log-Likelihood:                -488.84\n",
            "No. Observations:                 208   AIC:                             981.7\n",
            "Df Residuals:                     206   BIC:                             988.4\n",
            "Df Model:                           1                                         \n",
            "Covariance Type:            nonrobust                                         \n",
            "==============================================================================\n",
            "                 coef    std err          t      P>|t|      [0.025      0.975]\n",
            "------------------------------------------------------------------------------\n",
            "Intercept      4.3961      0.682      6.447      0.000       3.052       5.740\n",
            "Price         -0.0763      0.027     -2.835      0.005      -0.129      -0.023\n",
            "==============================================================================\n",
            "Omnibus:                      179.341   Durbin-Watson:                   1.783\n",
            "Prob(Omnibus):                  0.000   Jarque-Bera (JB):             1978.607\n",
            "Skew:                           3.506   Prob(JB):                         0.00\n",
            "Kurtosis:                      16.384   Cond. No.                         97.9\n",
            "==============================================================================\n",
            "\n",
            "Warnings:\n",
            "[1] Standard Errors assume that the covariance matrix of the errors is correctly specified.\n"
          ]
        }
      ]
    },
    {
      "cell_type": "code",
      "source": [
        "# for item, data in data_product['data_22485']:\n",
        "sns.lmplot(x = \"Price\", y = \"Quantity\", \n",
        "data = data_product['data_22485'], fit_reg = True, size = 4)"
      ],
      "metadata": {
        "colab": {
          "base_uri": "https://localhost:8080/",
          "height": 352
        },
        "id": "4eeF24BaVise",
        "outputId": "38119c0e-beb0-4f73-d704-3f7bb8e6bde4"
      },
      "execution_count": null,
      "outputs": [
        {
          "output_type": "stream",
          "name": "stderr",
          "text": [
            "/usr/local/lib/python3.7/dist-packages/seaborn/regression.py:581: UserWarning: The `size` parameter has been renamed to `height`; please update your code.\n",
            "  warnings.warn(msg, UserWarning)\n"
          ]
        },
        {
          "output_type": "execute_result",
          "data": {
            "text/plain": [
              "<seaborn.axisgrid.FacetGrid at 0x7f2ef949f7d0>"
            ]
          },
          "metadata": {},
          "execution_count": 231
        },
        {
          "output_type": "display_data",
          "data": {
            "text/plain": [
              "<Figure size 288x288 with 1 Axes>"
            ],
            "image/png": "[encoded data removed]"
          },
          "metadata": {
            "needs_background": "light"
          }
        }
      ]
    },
    {
      "cell_type": "code",
      "source": [
        "for item, data in data_product.items():\n",
        "  df_output=df_output.append({\n",
        "    'ProductNo':item.replace('data_', ''),\n",
        "  }, ignore_index=True)"
      ],
      "metadata": {
        "id": "lRubUNCHPu9w"
      },
      "execution_count": null,
      "outputs": []
    },
    {
      "cell_type": "code",
      "source": [
        "# fit OLS model\n",
        "for item, data in data_product.items():\n",
        "  # fit OLS model\n",
        "  model = ols(\"Quantity ~ Price\", data).fit()\n",
        "# print model summary\n",
        "  print(item.replace('data_', ''), model.params['Intercept'], model.params['Price'], data.Price.min(), data.Price.max())\n",
        "# append to dataframe output\n",
        "  dataku = item.replace('data_', '')\n",
        "  df_output=df_output.append({\n",
        "          'Intercept_Coef':model.params['Intercept'],\n",
        "          'Elasticity_Coef':model.params['Price'],\n",
        "          'Initial_MinPrice':data.Price.min(),\n",
        "          'Initial_MaxPrice':data.Price.max(),    \n",
        "  }, ignore_index=True)\n",
        "  simpan = df_output.to_json('export.json', orient='index')\n",
        "  print(simpan)\n"
      ],
      "metadata": {
        "id": "gDFHZa4IK6JW"
      },
      "execution_count": null,
      "outputs": []
    },
    {
      "cell_type": "code",
      "source": [
        "# fit OLS model fix cadangan\n",
        "# data_all = {}\n",
        "harga_unik = []\n",
        "for item, data in data_product.items():\n",
        "  # data_product['data_22485'].take([0])\n",
        "  simpan_unik = data_product[item].Price.unique()\n",
        "  \n",
        "  for i in range (len(data_product[item])):\n",
        "    model = ols(\"Quantity ~ Price\", data_product[item].take([i])).fit()\n",
        "  # print model summary\n",
        "    no = data_product[item]\n",
        "    harga = data_product[item]['Price'].iat[i]\n",
        "    harga_unik.append([item.replace('data_', ''), model.params['Intercept'], model.params['Price'], harga, no.Price.min(), no.Price.max()])\n",
        "  # for data in data_product[item]:\n",
        "harga_unik = pd.DataFrame(harga_unik, columns=[\"ProductNo\",\"Intercept_Coef\",\"Elasticity_Coef\",\"Price\",\"Min_Price\",\"Max_Price\"])\n",
        "harga_unik = harga_unik.drop_duplicates(subset=[\"Price\"], keep=\"first\")\n",
        "# data_all.update({item:harga_unik})\n",
        "# simpan = harga_unik.to_json('export.json', orient='index')\n",
        "# print(simpan)\n"
      ],
      "metadata": {
        "id": "rcr3akQNgKOJ"
      },
      "execution_count": null,
      "outputs": []
    },
    {
      "cell_type": "code",
      "source": [
        "# a range of diffferent prices to find the optimum one\n",
        "Price = [320, 330, 340, 350, 360, 370, 380, 390]\n",
        "i=0\n",
        "\n",
        "# assuming a fixed cost\n",
        "cost = 350\n",
        "\n",
        "for item, data in data_product.items():\n",
        "  Revenue = []\n",
        "  for i in Price:\n",
        "    quantity_demanded = model.params['Intercept'] - model.params['Price'] * i\n",
        "    \n",
        "    # profit function\n",
        "    Revenue.append((i-cost) * quantity_demanded)\n",
        "  # create data frame of price and revenue\n",
        "  profit = pd.DataFrame({\"Price\": Price, \"Revenue\": Revenue})\n",
        "  #plot revenue against price\n",
        "  plt.plot(profit[\"Price\"], profit[\"Revenue\"])\n",
        "  i=i+1"
      ],
      "metadata": {
        "id": "dY3tod6iUMMP"
      },
      "execution_count": null,
      "outputs": []
    },
    {
      "cell_type": "code",
      "source": [
        "for item, data in data_product.items():\n",
        "  min_price = data.Price.min()\n",
        "  max_price = data.Price.max()\n",
        "  print(min_price, max_price)\n",
        "  print(list(number_range(min_price, max_price, 10)))"
      ],
      "metadata": {
        "id": "Q2zUe6GUWBhS"
      },
      "execution_count": null,
      "outputs": []
    },
    {
      "cell_type": "code",
      "source": [
        "# for item in hasil_profit.count():\n",
        "#   max_profit = item\n",
        "#   print(item)\n",
        "print(hasil_profit.count)"
      ],
      "metadata": {
        "colab": {
          "base_uri": "https://localhost:8080/"
        },
        "id": "wLr8Br22Xo-0",
        "outputId": "719aca96-d6b6-4a8c-cd8e-783d2826982f"
      },
      "execution_count": null,
      "outputs": [
        {
          "output_type": "stream",
          "name": "stdout",
          "text": [
            "<built-in method count of list object at 0x7facc0ccb8c0>\n"
          ]
        }
      ]
    },
    {
      "cell_type": "code",
      "source": [
        "# a range of diffferent prices to find the optimum one\n",
        "# hasil_profit = []\n",
        "# simpan_profit = []\n",
        "#initialize Dataframe\n",
        "simpan_profit = pd.DataFrame({\n",
        "    'max_profit':[],\n",
        "    'max_price_profit':[],\n",
        "})\n",
        "# for item, data in data_product.items():\n",
        "for item, data in data_product.items():\n",
        "  min_price = data.Price.min()\n",
        "  max_price = data.Price.max()\n",
        "  Price = []\n",
        "  Price = list(number_range(min_price, max_price, 10))\n",
        "  Revenue = []\n",
        "  # assuming a fixed cost\n",
        "  cost = 20/100*min_price\n",
        "  model = ols(\"Quantity ~ Price\", data=data_product[item]).fit()\n",
        "  for i in Price:\n",
        "   quantity_demanded = model.params['Intercept'] - model.params['Price'] * i\n",
        "   # profit function\n",
        "   Revenue.append((i-cost) * quantity_demanded)\n",
        "  # create data frame of price and revenue\n",
        "  profit = pd.DataFrame({\"Price\": Price, \"Revenue\": Revenue})\n",
        "  #plot revenue against price\n",
        "  # plt.plot(profit[\"Price\"], profit[\"Revenue\"])\n",
        "  # for i in range (len(profit.iloc[profit['Revenue'].idxmax()])):\n",
        "  simpan_profit=simpan_profit.append({\n",
        "      'max_profit':round(profit.Revenue.max(),2),    \n",
        "      'max_price_profit':round(profit.Price.max(),2),    \n",
        "  }, ignore_index=True)\n",
        "  print(round(profit.iloc[profit['Revenue'].idxmax()],2))"
      ],
      "metadata": {
        "id": "ovmDsXXNnOm0",
        "colab": {
          "base_uri": "https://localhost:8080/"
        },
        "outputId": "73302624-caf8-4695-9b4d-8181ff22ee23"
      },
      "execution_count": 111,
      "outputs": [
        {
          "output_type": "stream",
          "name": "stdout",
          "text": [
            "Price       36.38\n",
            "Revenue    252.19\n",
            "Name: 10, dtype: float64\n",
            "Price       13.27\n",
            "Revenue    241.42\n",
            "Name: 10, dtype: float64\n",
            "Price       16.18\n",
            "Revenue    235.97\n",
            "Name: 10, dtype: float64\n",
            "Price       13.62\n",
            "Revenue    133.13\n",
            "Name: 10, dtype: float64\n",
            "Price       18.75\n",
            "Revenue    178.11\n",
            "Name: 10, dtype: float64\n",
            "Price       13.69\n",
            "Revenue    992.71\n",
            "Name: 10, dtype: float64\n",
            "Price       22.42\n",
            "Revenue    172.85\n",
            "Name: 10, dtype: float64\n",
            "Price       24.73\n",
            "Revenue    346.34\n",
            "Name: 10, dtype: float64\n",
            "Price       12.82\n",
            "Revenue    577.87\n",
            "Name: 10, dtype: float64\n",
            "Price       11.95\n",
            "Revenue    604.72\n",
            "Name: 10, dtype: float64\n"
          ]
        }
      ]
    },
    {
      "cell_type": "code",
      "source": [
        "# coba\n",
        "#initialize Dataframe\n",
        "simpan_profit = pd.DataFrame({\n",
        "    'max_profit':[],\n",
        "    'max_price_profit':[],\n",
        "})\n",
        "Price = [50, 60, 70, 80,90]\n",
        "# assuming a fixed cost\n",
        "cost = 40\n",
        "Revenue = []\n",
        "for i in Price:\n",
        "  quantity_demanded = model.params['Intercept'] - model.params['Price'] * i \n",
        "  # profit function\n",
        "  Revenue.append((i-cost) * quantity_demanded)\n",
        "# create data frame of price and revenue\n",
        "profit = pd.DataFrame({\"Price\": Price, \"Revenue\": Revenue})\n",
        "#plot revenue against price\n",
        "d = 0\n",
        "for data in profit.Revenue.items():\n",
        "  print(data[1])\n",
        "  if(profit.Revenue.max() == data[1]):\n",
        "    simpan_profit=simpan_profit.append({\n",
        "        'max_profit':round(profit.Revenue.max(),2),    \n",
        "        'max_price_profit':round(profit.Price[d],2),    \n",
        "    }, ignore_index=True)\n",
        "    print(\"berhasil\")\n",
        "  else:\n",
        "    print(\"tidak\")\n",
        "  d=d+1\n",
        "\n",
        "\n",
        "plt.plot(profit[\"Price\"], profit[\"Revenue\"])"
      ],
      "metadata": {
        "colab": {
          "base_uri": "https://localhost:8080/",
          "height": 468
        },
        "id": "zEwU6-9X1dzK",
        "outputId": "e235a912-01fb-4602-c30a-6158999091ed"
      },
      "execution_count": 99,
      "outputs": [
        {
          "output_type": "stream",
          "name": "stdout",
          "text": [
            "45.38182674947934\n",
            "tidak\n",
            "68.61955054133156\n",
            "tidak\n",
            "69.71317137555668\n",
            "berhasil\n",
            "48.66268925215465\n",
            "tidak\n",
            "5.468104171125621\n",
            "tidak\n"
          ]
        },
        {
          "output_type": "execute_result",
          "data": {
            "text/plain": [
              "[<matplotlib.lines.Line2D at 0x7fd460164f50>]"
            ]
          },
          "metadata": {},
          "execution_count": 99
        },
        {
          "output_type": "display_data",
          "data": {
            "text/plain": [
              "<Figure size 432x288 with 1 Axes>"
            ],
            "image/png": "[encoded data removed]"
          },
          "metadata": {
            "needs_background": "light"
          }
        }
      ]
    }
  ]
}